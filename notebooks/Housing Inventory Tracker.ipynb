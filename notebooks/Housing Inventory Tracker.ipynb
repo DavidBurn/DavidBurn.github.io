{
 "cells": [
  {
   "cell_type": "markdown",
   "metadata": {},
   "source": [
    "# Housing Inventory Tracker - A PyBites code challenge\n",
    "\n",
    "I have recently stumbled across the twitter tag #100daysOfCode, the idea being to code or do some supplementary learning towards coding for 100 days in a row. I am 7 days in and am already finding myself thinking about code and problems I could solve much more regularly throughout my daily life.\n",
    "\n",
    "Todays challenge was taken from [PyBites Code Challenges](https://pybit.es/pages/challenges.html), a blog hosting free, open ended tasks released periodically to complete in your own time and then share with the community. This is task 8, a good year behind the most current challenge but I hope to catch up during my 100 days of code. \n",
    "\n",
    "## The challenge\n",
    "\n",
    "The challenge is simple with some added options if you wish to take it a few steps further. The instructions from PyBites:\n",
    "\n",
    "#### House Inventory Tracker Requirements\n",
    "\n",
    "- Create a list of rooms (doesn't have to use the list type).\n",
    "\n",
    "- Each room in your rooms list needs to contain at least 5 items (ie, TV, couch, table, etc) and the relative dollar value of each item.\n",
    "\n",
    "- The script you will write will print out each room along with the individual items and values. This needs to be properly formatted, eg: no printing a dict as is.\n",
    "\n",
    "There were also some bonus parts to the challenge:\n",
    "\n",
    "#### These are bonus features. Not required but cool to try if you're interested:\n",
    "\n",
    "- Create some sort of program shell with a menu system around this. ie, \"Which room would you like to list out?\"\n",
    "\n",
    "- If you're really game, allow users to create rooms and update information.\n",
    "\n",
    "- You could even make an API with Flask or your preferred framework\n",
    "\n",
    "- Print the total dollar value of each room and the entire house.\n",
    "\n",
    "- Have persistent storage of the data. sqlite3 = stdlib and light-weight, but feel free to use your preferred DB / module.\n",
    "\n",
    "There are clearly many ways in which to approach this challenge, simply entering the information in a script in the form of lists or a dataframe would allow the results to be printed to the screen. However having had little practice creating classes I opted to model the house as a class instance, allowing for the whole process to be easily user controlled after the script has been run, first creating the house, then adding rooms and items. "
   ]
  },
  {
   "cell_type": "code",
   "execution_count": 44,
   "metadata": {},
   "outputs": [],
   "source": [
    "import json\n",
    "\n",
    "class House:\n",
    "    \"\"\"\n",
    "    A class for storing household inventory.\n",
    "    \n",
    "    Attributes\n",
    "        name (str) : Name of the house.\n",
    "        total_value (int) : Total value of items in the house.\n",
    "        rooms (dict) : A dictionary of rooms, each rooms value being a dictionary of items\n",
    "                       within that room along with its dollar value.\n",
    "    \"\"\"\n",
    "    def __init__(self, name, rooms = None):\n",
    "        \"\"\"\n",
    "        The constructor for House class.\n",
    "        \n",
    "        Parameters:\n",
    "            name (str) : Name of the house.\n",
    "            rooms (dict) : Defaults to None, an optional input allowed a previously created\n",
    "                           House class to be loaded.\n",
    "        \n",
    "        \"\"\"\n",
    "        self.name = name\n",
    "        self.total_value = 0\n",
    "        if rooms:\n",
    "            self.rooms = rooms\n",
    "            self.update_total()\n",
    "        else:\n",
    "            self.rooms = {}\n",
    "    \n",
    "    def update_total(self):\n",
    "        \"Updates total_value attribute\"\n",
    "        self.total_value = sum(sum(self.rooms[room].values()) for room in self.rooms.keys())\n",
    "    \n",
    "    def add_room(self, name):\n",
    "        \"Add room name to rooms attribute\"\n",
    "        self.rooms[name] = {}\n",
    "        \n",
    "    def add_item(self, item_name, value, room):\n",
    "        \"\"\"\n",
    "        Add item to rooms attribute, creating room if room does not exist.\n",
    "        \n",
    "        Parameters:\n",
    "            item_name (str, list) : Item or items to be added to house inventory\n",
    "            value (str, list) : Value of item or items to be added.\n",
    "            room (str) : Location of item or items to be added.\n",
    "        \n",
    "        tota_value updates after items are added.\n",
    "        \"\"\"\n",
    "        if room not in house.rooms:\n",
    "            self.add_room(room)\n",
    "        if type(item_name) == list:\n",
    "            for item, value in zip(item_name, value):\n",
    "                self.rooms[room][item] = value\n",
    "        else:\n",
    "            self.rooms[room][item_name] = value\n",
    "        self.update_total()\n",
    "        \n",
    "    def remove_item(self, item_name, room):\n",
    "        \"\"\"\n",
    "        Remove item from rooms attribute.\n",
    "        \n",
    "        Parameters:\n",
    "            item_name (str) : Name of item to remove.\n",
    "            room (str) : Location of item to remove\n",
    "            \n",
    "        total_value updates after items are removed.\n",
    "        \"\"\"\n",
    "        del self.rooms[room][item_name]\n",
    "        self.update_total()\n",
    "    \n",
    "    def print_items(self):\n",
    "        \"Print full inventory including room totals and grand total.\"\n",
    "        print('{:*^40}'.format(self.name))\n",
    "        for room in self.rooms.keys():\n",
    "            print(room)\n",
    "            for item, value in self.rooms[room].items():\n",
    "                print('    {:<15} : {}'.format(item, value))\n",
    "            print('Room total : {}'.format(sum(self.rooms[room].values())))\n",
    "            print('-'*10)\n",
    "        print('Grand Total : {}'.format(self.total_value))\n",
    "        \n",
    "    def save_house_to_disk(self, path='house.json'):\n",
    "        \"\"\"\n",
    "        Save house class to disk as JSON file.\"\n",
    "        \n",
    "        Parameters:\n",
    "            path (str) : Filepath for outfile.\n",
    "        \"\"\"\n",
    "        with open(path, 'w') as file:\n",
    "            json.dump(self.rooms, file)\n"
   ]
  },
  {
   "cell_type": "markdown",
   "metadata": {},
   "source": [
    "As defined in the docstrings, the class has three attributes, a name, total value and \"rooms\" which holds the full inventory and each items location. The methods are all self explanatory, the update_total is used to update the *total_value* attribute when items are added or removed from the inventory. \n",
    "\n",
    "We can now create a house and add some items."
   ]
  },
  {
   "cell_type": "code",
   "execution_count": 45,
   "metadata": {},
   "outputs": [
    {
     "data": {
      "text/plain": [
       "{'Garage': {}}"
      ]
     },
     "execution_count": 45,
     "metadata": {},
     "output_type": "execute_result"
    }
   ],
   "source": [
    "house = House('My Place')\n",
    "house.add_room('Garage')\n",
    "house.rooms"
   ]
  },
  {
   "cell_type": "code",
   "execution_count": 46,
   "metadata": {},
   "outputs": [
    {
     "data": {
      "text/plain": [
       "{'Garage': {'Bike': 500}}"
      ]
     },
     "execution_count": 46,
     "metadata": {},
     "output_type": "execute_result"
    }
   ],
   "source": [
    "house.add_item('Bike', 500, 'Garage')\n",
    "house.rooms"
   ]
  },
  {
   "cell_type": "code",
   "execution_count": 47,
   "metadata": {},
   "outputs": [
    {
     "data": {
      "text/plain": [
       "{'Garage': {'Bike': 500,\n",
       "  'Roof Box': 250,\n",
       "  'Saw': 200,\n",
       "  'Sofa': 150,\n",
       "  'Workbench': 25}}"
      ]
     },
     "execution_count": 47,
     "metadata": {},
     "output_type": "execute_result"
    }
   ],
   "source": [
    "things = ['Saw', 'Roof Box', 'Sofa', 'Workbench']\n",
    "values = [200, 250, 150, 25]\n",
    "\n",
    "house.add_item(things, values, 'Garage')\n",
    "house.rooms"
   ]
  },
  {
   "cell_type": "code",
   "execution_count": 48,
   "metadata": {},
   "outputs": [
    {
     "name": "stdout",
     "output_type": "stream",
     "text": [
      "****************My Place****************\n",
      "Garage\n",
      "    Bike            : 500\n",
      "    Saw             : 200\n",
      "    Roof Box        : 250\n",
      "    Sofa            : 150\n",
      "    Workbench       : 25\n",
      "Room total : 1125\n",
      "----------\n",
      "Grand Total : 1125\n"
     ]
    }
   ],
   "source": [
    "house.print_items()"
   ]
  },
  {
   "cell_type": "code",
   "execution_count": 49,
   "metadata": {},
   "outputs": [
    {
     "name": "stdout",
     "output_type": "stream",
     "text": [
      "****************My Place****************\n",
      "Garage\n",
      "    Bike            : 500\n",
      "    Roof Box        : 250\n",
      "    Sofa            : 150\n",
      "    Workbench       : 25\n",
      "Room total : 925\n",
      "----------\n",
      "Grand Total : 925\n"
     ]
    }
   ],
   "source": [
    "house.remove_item('Saw', 'Garage')\n",
    "house.print_items()"
   ]
  },
  {
   "cell_type": "code",
   "execution_count": 50,
   "metadata": {},
   "outputs": [
    {
     "name": "stdout",
     "output_type": "stream",
     "text": [
      "****************My Place****************\n",
      "Garage\n",
      "    Bike            : 500\n",
      "    Roof Box        : 250\n",
      "    Sofa            : 150\n",
      "    Workbench       : 25\n",
      "    Shelving        : 25\n",
      "Room total : 950\n",
      "----------\n",
      "Dining Room\n",
      "    Dining Table    : 700\n",
      "    Sideboard       : 300\n",
      "    Lighting        : 100\n",
      "    Cutlery         : 25\n",
      "    Placemats       : 20\n",
      "    Curtains        : 90\n",
      "Room total : 1235\n",
      "----------\n",
      "Living Rooms\n",
      "    TV              : 1000\n",
      "    TV Stand        : 300\n",
      "    Coffee Table    : 150\n",
      "    Sofa            : 200\n",
      "    Curtains        : 100\n",
      "Room total : 1750\n",
      "----------\n",
      "Grand Total : 3935\n"
     ]
    }
   ],
   "source": [
    "dr_items = ['Dining Table', 'Sideboard', 'Lighting', 'Cutlery', 'Placemats', 'Curtains']\n",
    "dr_values = [700, 300, 100, 25, 20, 90]\n",
    "\n",
    "house.add_item(dr_items, dr_values, 'Dining Room')\n",
    "\n",
    "lr_things = ['TV', 'TV Stand', 'Coffee Table', 'Sofa', 'Curtains']\n",
    "lr_values = [1000, 300, 150, 200, 100]\n",
    "\n",
    "house.add_item(lr_things, lr_values, 'Living Rooms')\n",
    "\n",
    "house.add_item('Shelving', 25, 'Garage')\n",
    "\n",
    "house.print_items()"
   ]
  },
  {
   "cell_type": "markdown",
   "metadata": {},
   "source": [
    "Now we have finished entering our items, we can call the *save_house_to_disk* method, leaving the default filepath 'house.json' and save our house for later. "
   ]
  },
  {
   "cell_type": "code",
   "execution_count": 51,
   "metadata": {},
   "outputs": [],
   "source": [
    "house.save_house_to_disk()"
   ]
  },
  {
   "cell_type": "markdown",
   "metadata": {},
   "source": [
    "To load the house, we add a supplementary function. Provided we navigate to the same working directory we last worked on the house, we can use the default path again."
   ]
  },
  {
   "cell_type": "code",
   "execution_count": 52,
   "metadata": {},
   "outputs": [],
   "source": [
    "def load_house(name, path='house.json'):\n",
    "    with open(path) as file:\n",
    "        house_data = json.load(file)\n",
    "    house = House(name, house_data)\n",
    "    return house\n",
    "\n",
    "loaded_house = load_house('House reloaded')"
   ]
  },
  {
   "cell_type": "code",
   "execution_count": 53,
   "metadata": {},
   "outputs": [
    {
     "name": "stdout",
     "output_type": "stream",
     "text": [
      "*************House reloaded*************\n",
      "Garage\n",
      "    Bike            : 500\n",
      "    Roof Box        : 250\n",
      "    Sofa            : 150\n",
      "    Workbench       : 25\n",
      "    Shelving        : 25\n",
      "Room total : 950\n",
      "----------\n",
      "Dining Room\n",
      "    Dining Table    : 700\n",
      "    Sideboard       : 300\n",
      "    Lighting        : 100\n",
      "    Cutlery         : 25\n",
      "    Placemats       : 20\n",
      "    Curtains        : 90\n",
      "Room total : 1235\n",
      "----------\n",
      "Living Rooms\n",
      "    TV              : 1000\n",
      "    TV Stand        : 300\n",
      "    Coffee Table    : 150\n",
      "    Sofa            : 200\n",
      "    Curtains        : 100\n",
      "Room total : 1750\n",
      "----------\n",
      "Grand Total : 3935\n"
     ]
    }
   ],
   "source": [
    "loaded_house.print_items()"
   ]
  },
  {
   "cell_type": "markdown",
   "metadata": {},
   "source": [
    "## Summary\n",
    "\n",
    "A simple house inventory tracker using a python class. While not completing all of the bonus brief it allows full user input and for the inventory to be easily saved and reloaded at a later date."
   ]
  },
  {
   "cell_type": "code",
   "execution_count": null,
   "metadata": {},
   "outputs": [],
   "source": []
  }
 ],
 "metadata": {
  "kernelspec": {
   "display_name": "Python 3",
   "language": "python",
   "name": "python3"
  },
  "language_info": {
   "codemirror_mode": {
    "name": "ipython",
    "version": 3
   },
   "file_extension": ".py",
   "mimetype": "text/x-python",
   "name": "python",
   "nbconvert_exporter": "python",
   "pygments_lexer": "ipython3",
   "version": "3.6.8"
  }
 },
 "nbformat": 4,
 "nbformat_minor": 2
}
